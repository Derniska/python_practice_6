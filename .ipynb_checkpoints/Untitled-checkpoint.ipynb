{
 "cells": [
  {
   "cell_type": "code",
   "execution_count": null,
   "id": "bdb1faad-144c-4bc5-a009-2d3a91565be9",
   "metadata": {
    "tags": []
   },
   "outputs": [],
   "source": [
    "my_list = [12, 46, 3, 84, 56, 23, 16, 13, 72, 15, 142, 8, 5]"
   ]
  },
  {
   "cell_type": "code",
   "execution_count": 2,
   "id": "627f2784-83f2-4e36-8db7-dca3b42624ff",
   "metadata": {
    "tags": []
   },
   "outputs": [],
   "source": [
    "import random\n",
    "my_list1 = random.sample(range(100), k=25)\n",
    "my_list2 = random.sample(range(500), k = 125)"
   ]
  },
  {
   "cell_type": "code",
   "execution_count": 3,
   "id": "162becee-7a9e-4a39-80c8-a7aa4816f3ee",
   "metadata": {
    "tags": []
   },
   "outputs": [],
   "source": [
    "# def bubble_sort()"
   ]
  },
  {
   "cell_type": "code",
   "execution_count": null,
   "id": "b810b3e2-d108-41eb-8d47-e8a3d9b5fdd9",
   "metadata": {},
   "outputs": [],
   "source": [
    "n = len(my_list)\n",
    "for i in range(n):\n",
    "    print(i)\n",
    "#     if my_list[i] > my_list[i+1]:\n",
    "#         my_list[i], my_list[i+1] = my_list[i+1], my_list[i]\n",
    "# print(my_list)"
   ]
  },
  {
   "cell_type": "code",
   "execution_count": 12,
   "id": "40361b12-a100-443a-9353-95d81f4609ab",
   "metadata": {
    "tags": []
   },
   "outputs": [],
   "source": [
    "# def merge_sort()"
   ]
  },
  {
   "cell_type": "code",
   "execution_count": null,
   "id": "1d441597-524b-4533-9625-339563354f89",
   "metadata": {},
   "outputs": [],
   "source": []
  },
  {
   "cell_type": "code",
   "execution_count": 13,
   "id": "47b1c469-908d-4d95-97e6-66660ff04cd7",
   "metadata": {
    "tags": []
   },
   "outputs": [],
   "source": [
    "# def quick_sort()"
   ]
  },
  {
   "cell_type": "code",
   "execution_count": null,
   "id": "c4afa556-0aa3-46a5-ba58-1b23b809c107",
   "metadata": {},
   "outputs": [],
   "source": []
  },
  {
   "cell_type": "code",
   "execution_count": null,
   "id": "7c6af237-fa83-452c-85be-390bf08fec22",
   "metadata": {},
   "outputs": [],
   "source": []
  }
 ],
 "metadata": {
  "kernelspec": {
   "display_name": "Python 3 (ipykernel)",
   "language": "python",
   "name": "python3"
  },
  "language_info": {
   "codemirror_mode": {
    "name": "ipython",
    "version": 3
   },
   "file_extension": ".py",
   "mimetype": "text/x-python",
   "name": "python",
   "nbconvert_exporter": "python",
   "pygments_lexer": "ipython3",
   "version": "3.10.9"
  }
 },
 "nbformat": 4,
 "nbformat_minor": 5
}
