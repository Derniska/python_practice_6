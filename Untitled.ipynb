{
 "cells": [
  {
   "cell_type": "markdown",
   "id": "c6a2e06a-34fd-43a4-ad45-f217b8628199",
   "metadata": {},
   "source": [
    "***Task1***"
   ]
  },
  {
   "cell_type": "code",
   "execution_count": 35,
   "id": "627f2784-83f2-4e36-8db7-dca3b42624ff",
   "metadata": {
    "tags": []
   },
   "outputs": [],
   "source": [
    "import random\n",
    "import time\n",
    "import pandas as pd\n",
    "from matplotlib import pyplot as plt\n",
    "from tqdm import tqdm\n",
    "random.seed = 42\n",
    "my_list1 = random.sample(range(100000000), k=500000)\n",
    "my_list2 = random.sample(range(100), k = 40)"
   ]
  },
  {
   "cell_type": "code",
   "execution_count": 22,
   "id": "162becee-7a9e-4a39-80c8-a7aa4816f3ee",
   "metadata": {
    "tags": []
   },
   "outputs": [],
   "source": [
    "# The simplest sorting algorithm\n",
    "def bubble_sort(arr):\n",
    "    for i in tqdm(range(len(arr))):\n",
    "        swap = False\n",
    "        for j in range(len(arr)-1-i):\n",
    "            if arr[j] > arr[j+1]:\n",
    "                arr[j], arr[j+1] = arr[j+1], arr[j]\n",
    "                swap = True\n",
    "        if not swap:\n",
    "                break\n",
    "    return arr\n",
    "\n",
    "def bubble_sort_t(arr):\n",
    "    start = time.time()\n",
    "    bubble_sort(arr)\n",
    "    finish = time.time()\n",
    "    time_com = finish - start\n",
    "    return time_com"
   ]
  },
  {
   "cell_type": "code",
   "execution_count": 32,
   "id": "3579d87a-227b-4417-9575-5df79fa47647",
   "metadata": {
    "tags": []
   },
   "outputs": [
    {
     "name": "stdout",
     "output_type": "stream",
     "text": [
      "[49, 62, 99, 42, 9, 27, 77, 70, 82, 69, 26, 4, 19, 72, 94, 41, 28, 17, 61, 85, 71, 46, 54, 74, 79, 39, 73, 33, 97, 98, 18, 89, 20, 55, 50, 24, 56, 67, 0, 65]\n"
     ]
    }
   ],
   "source": [
    "print(my_list2)"
   ]
  },
  {
   "cell_type": "code",
   "execution_count": null,
   "id": "9a1a5410-7308-4ad7-a355-a7fde48a7a42",
   "metadata": {
    "tags": []
   },
   "outputs": [],
   "source": [
    "bubble_sort(my_list1)\n",
    "print(my_list2)"
   ]
  },
  {
   "cell_type": "code",
   "execution_count": 29,
   "id": "0de7c5f5-a1a5-42f4-a856-7bb1df48168c",
   "metadata": {},
   "outputs": [],
   "source": [
    "def insertion_sort(arr):\n",
    "    for i in tqdm(range(1,len(arr))):\n",
    "        j = i \n",
    "        while arr[j-1] > arr[j] and j > 0:\n",
    "            arr[j], arr[j-1] = arr[j-1], arr[j]\n",
    "            j -= 1\n",
    "def insertion_sort_t(arr):\n",
    "    start = time.time()\n",
    "    insertion_sort(arr)\n",
    "    finish = time.time(arr)\n",
    "    time_comp = finish - start"
   ]
  },
  {
   "cell_type": "code",
   "execution_count": 30,
   "id": "a80c1395-61b2-4575-95b3-66446134721e",
   "metadata": {
    "tags": []
   },
   "outputs": [
    {
     "name": "stdout",
     "output_type": "stream",
     "text": [
      "[56, 3, 18, 97, 98, 11, 64, 23, 84, 15, 7, 5, 39, 69, 63, 81, 68, 80, 21, 49, 28, 31, 59, 99, 96, 14, 41, 70, 16, 74, 50, 52, 42, 10, 44, 24, 60, 22, 79, 92]\n"
     ]
    }
   ],
   "source": [
    "print(my_list2)"
   ]
  },
  {
   "cell_type": "code",
   "execution_count": null,
   "id": "a59f7919-5b81-4000-91d1-d190f820891d",
   "metadata": {
    "tags": []
   },
   "outputs": [],
   "source": [
    "insertion_sort(my_list2)\n",
    "print(my_list2)"
   ]
  },
  {
   "cell_type": "code",
   "execution_count": null,
   "id": "ca19a825-0951-48cf-869f-f82c3c1ce40a",
   "metadata": {
    "tags": []
   },
   "outputs": [],
   "source": [
    "timer_insertion_sort = insertion_sort_t(my_list1)\n",
    "print(timer_insertion_sort)"
   ]
  },
  {
   "cell_type": "code",
   "execution_count": 58,
   "id": "259282ca-47aa-40ba-86e6-623d321621db",
   "metadata": {},
   "outputs": [],
   "source": [
    "def selection_sort(arr):\n",
    "    for i in tqdm(range(0,len(arr)-1)):\n",
    "        cur_min_ind = i\n",
    "        for j in range(i+1, len(arr)):\n",
    "            if arr[j] < arr[cur_min_ind]:\n",
    "                cur_min_ind = j\n",
    "        arr[i], arr[cur_min_ind] = arr[cur_min_ind], arr[i]\n",
    "        \n",
    "def selection_sort_t(arr):\n",
    "    start = time.time()\n",
    "    selection_sort(arr)\n",
    "    finish = time.time()\n",
    "    time_com = selection_sort_t\n",
    "    return time_com"
   ]
  },
  {
   "cell_type": "code",
   "execution_count": 59,
   "id": "46d935ed-5ff6-442e-ad16-e57ffb056ded",
   "metadata": {
    "tags": []
   },
   "outputs": [
    {
     "name": "stdout",
     "output_type": "stream",
     "text": [
      "[3, 72, 75, 15, 96, 1, 7, 41, 5, 76, 16, 93, 63, 92, 0, 64, 52, 34, 46, 14, 36, 12, 40, 58, 43, 65, 57, 77, 53, 94, 47, 54, 10, 42, 23, 81, 37, 73, 69, 24]\n"
     ]
    }
   ],
   "source": [
    "print(my_list2)"
   ]
  },
  {
   "cell_type": "code",
   "execution_count": 60,
   "id": "6746330f-3cb2-4d8b-977f-0e03b4b3b915",
   "metadata": {
    "tags": []
   },
   "outputs": [
    {
     "name": "stderr",
     "output_type": "stream",
     "text": [
      "\n",
      "\n",
      "100%|██████████| 39/39 [00:00<00:00, 347299.06it/s]"
     ]
    },
    {
     "name": "stdout",
     "output_type": "stream",
     "text": [
      "[0, 1, 3, 5, 7, 10, 12, 14, 15, 16, 23, 24, 34, 36, 37, 40, 41, 42, 43, 46, 47, 52, 53, 54, 57, 58, 63, 64, 65, 69, 72, 73, 75, 76, 77, 81, 92, 93, 94, 96]\n"
     ]
    },
    {
     "name": "stderr",
     "output_type": "stream",
     "text": [
      "\n"
     ]
    }
   ],
   "source": [
    "selection_sort(my_list2)\n",
    "print(my_list2)"
   ]
  },
  {
   "cell_type": "code",
   "execution_count": null,
   "id": "b3876fe8-f9f2-40e1-94cf-7e6c30727a7e",
   "metadata": {},
   "outputs": [],
   "source": [
    "def heap_sort(arr)"
   ]
  },
  {
   "cell_type": "code",
   "execution_count": 36,
   "id": "40361b12-a100-443a-9353-95d81f4609ab",
   "metadata": {
    "tags": []
   },
   "outputs": [],
   "source": [
    "# Divide a list into two equal parts (divide and conquer)\n",
    "def merge_sort(arr):\n",
    "    if len(arr) > 1:\n",
    "    #     Splitting the array in half\n",
    "        part1 = arr[:len(arr)//2]\n",
    "        part2 = arr[len(arr)//2 :]\n",
    "    #     Recursively calling the algorith on each part\n",
    "        merge_sort(part1)\n",
    "        merge_sort(part2)\n",
    "    #     i and j to keep track of left and right parts\n",
    "        i=j=k=0 \n",
    "        while i < len(part1) and j < len(part2):\n",
    "            if part1[i] < part2[j]:\n",
    "                arr[k] = part1[i]\n",
    "                i +=1\n",
    "            else:\n",
    "                arr[k] = part2[j]\n",
    "                j +=1\n",
    "            k +=1\n",
    "        while i < len(part1):\n",
    "            arr[k] = part1[i]\n",
    "            i +=1\n",
    "            k +=1\n",
    "        while j < len(part2):\n",
    "            arr[k] = part2[j]\n",
    "            j +=1\n",
    "            k +=1\n",
    "def merge_sort_t(arr):\n",
    "    start = time.time()\n",
    "    merge_sort(arr)\n",
    "    finish = time.time()\n",
    "    time_complex = finish - start\n",
    "    return time_complex"
   ]
  },
  {
   "cell_type": "code",
   "execution_count": 40,
   "id": "47b1c469-908d-4d95-97e6-66660ff04cd7",
   "metadata": {
    "tags": []
   },
   "outputs": [],
   "source": [
    "# The quick sort algorithm is similar to the merge sort. The array is split into two parts on every iteration of the recursion based\n",
    "# on the pivot value: all the values grater than pivot are sorted into the rigth part and smaller into the left part. These operation repeats\n",
    "# recursively unitl there is only one element left\n",
    "def quick_sort(arr):\n",
    "    if len(arr) <= 1:\n",
    "        return arr\n",
    "    else:\n",
    "        pivot = arr.pop()\n",
    "        left_arr = []\n",
    "        right_arr = []\n",
    "        for item in arr:\n",
    "            if item < pivot:\n",
    "                left_arr.append(item)\n",
    "            else:\n",
    "                right_arr.append(item)\n",
    "    return quick_sort(left_arr) + [pivot] + quick_sort(right_arr)\n",
    "def quick_sort_t(arr):\n",
    "    start = time.time()\n",
    "    quick_sort(arr)\n",
    "    finish = time.time()\n",
    "    time_comp = finish - start\n",
    "    return time_comp"
   ]
  },
  {
   "cell_type": "code",
   "execution_count": null,
   "id": "ca7b466a-275a-4ccc-b137-db70e8bde072",
   "metadata": {},
   "outputs": [],
   "source": []
  },
  {
   "cell_type": "code",
   "execution_count": null,
   "id": "cc331dfd-19b7-4a56-8ae0-95053c084fed",
   "metadata": {},
   "outputs": [],
   "source": [
    "time_comps = {\n",
    "    'merge_sort': timer_merge_sort,\n",
    "    'quick_sort': timer_quick_sort,\n",
    "    'bubble_sort': timer_bubble_sort,\n",
    "    'heap_sort': timer_heap_sort,\n",
    "    'selection_sort': timer_selection_sort,\n",
    "    'insertion_sort': timer_insertion_sort\n",
    "    }"
   ]
  },
  {
   "cell_type": "markdown",
   "id": "36519dfd-abe1-4c6c-8e3c-a4d866ede2a9",
   "metadata": {},
   "source": [
    "***Task 2***"
   ]
  },
  {
   "cell_type": "code",
   "execution_count": 6,
   "id": "c205bc9e-3d47-4e1b-9238-78ead7c2186f",
   "metadata": {
    "tags": []
   },
   "outputs": [],
   "source": [
    "income = np.array([93.62,91.54,93.25,94.164,96.12,102.89,105.27,108.963,112.256,119.32,125.89,127.914])"
   ]
  },
  {
   "cell_type": "code",
   "execution_count": 17,
   "id": "169db279-2672-4422-bdb0-7460146de1d1",
   "metadata": {
    "tags": []
   },
   "outputs": [],
   "source": [
    "timer = quick_sort_timer(my_list1)"
   ]
  },
  {
   "cell_type": "code",
   "execution_count": 8,
   "id": "58e3b165-6212-4996-9f79-38ce80c92f72",
   "metadata": {
    "tags": []
   },
   "outputs": [
    {
     "name": "stdout",
     "output_type": "stream",
     "text": [
      "12 <class 'numpy.ndarray'>\n"
     ]
    }
   ],
   "source": [
    "print(len(income), type(income))"
   ]
  },
  {
   "cell_type": "code",
   "execution_count": 10,
   "id": "05763eac-82e7-4665-8656-272aad8f56b0",
   "metadata": {
    "tags": []
   },
   "outputs": [
    {
     "name": "stdout",
     "output_type": "stream",
     "text": [
      "Income without tax is: [65.534  64.078  65.275  65.9148 67.284  72.023  73.689  76.2741 78.5792\n",
      " 83.524  88.123  89.5398]\n"
     ]
    }
   ],
   "source": [
    "income_without_tax = income * .7\n",
    "print(f'Income without tax is: {income_without_tax}')"
   ]
  },
  {
   "cell_type": "code",
   "execution_count": 11,
   "id": "f09d8b9c-bebc-44aa-afbf-2d5aeb3d477f",
   "metadata": {
    "tags": []
   },
   "outputs": [],
   "source": [
    "expenses = np.array([76.02, 76.75,77.662,79.25,82.56, 84.094,90.44,96.78,103.209,107.89,111.64,114.884])"
   ]
  },
  {
   "cell_type": "code",
   "execution_count": 12,
   "id": "d9326dd3-b5cb-4c3b-822f-680fad47df9c",
   "metadata": {
    "tags": []
   },
   "outputs": [
    {
     "data": {
      "text/plain": [
       "12"
      ]
     },
     "execution_count": 12,
     "metadata": {},
     "output_type": "execute_result"
    }
   ],
   "source": [
    "len(expenses)"
   ]
  },
  {
   "cell_type": "code",
   "execution_count": 40,
   "id": "3227ea4b-c7a5-4234-8159-dae2dadc78e5",
   "metadata": {
    "tags": []
   },
   "outputs": [],
   "source": [
    "fin_res = pd.DataFrame(\n",
    "    data = {'Income_without_tax': income_without_tax, 'Expenses' : expenses})\n",
    "fin_res['Month'] = ['January', 'February', 'March', 'April', 'May', 'June', 'July','August','September', 'October', 'November', 'December' ]"
   ]
  },
  {
   "cell_type": "code",
   "execution_count": 41,
   "id": "57ea3756-101f-457b-9930-490e709fd16c",
   "metadata": {
    "tags": []
   },
   "outputs": [
    {
     "data": {
      "text/html": [
       "<div>\n",
       "<style scoped>\n",
       "    .dataframe tbody tr th:only-of-type {\n",
       "        vertical-align: middle;\n",
       "    }\n",
       "\n",
       "    .dataframe tbody tr th {\n",
       "        vertical-align: top;\n",
       "    }\n",
       "\n",
       "    .dataframe thead th {\n",
       "        text-align: right;\n",
       "    }\n",
       "</style>\n",
       "<table border=\"1\" class=\"dataframe\">\n",
       "  <thead>\n",
       "    <tr style=\"text-align: right;\">\n",
       "      <th></th>\n",
       "      <th>Income_without_tax</th>\n",
       "      <th>Expenses</th>\n",
       "      <th>Month</th>\n",
       "    </tr>\n",
       "  </thead>\n",
       "  <tbody>\n",
       "    <tr>\n",
       "      <th>0</th>\n",
       "      <td>65.5340</td>\n",
       "      <td>76.020</td>\n",
       "      <td>January</td>\n",
       "    </tr>\n",
       "    <tr>\n",
       "      <th>1</th>\n",
       "      <td>64.0780</td>\n",
       "      <td>76.750</td>\n",
       "      <td>February</td>\n",
       "    </tr>\n",
       "    <tr>\n",
       "      <th>2</th>\n",
       "      <td>65.2750</td>\n",
       "      <td>77.662</td>\n",
       "      <td>March</td>\n",
       "    </tr>\n",
       "    <tr>\n",
       "      <th>3</th>\n",
       "      <td>65.9148</td>\n",
       "      <td>79.250</td>\n",
       "      <td>April</td>\n",
       "    </tr>\n",
       "    <tr>\n",
       "      <th>4</th>\n",
       "      <td>67.2840</td>\n",
       "      <td>82.560</td>\n",
       "      <td>May</td>\n",
       "    </tr>\n",
       "    <tr>\n",
       "      <th>5</th>\n",
       "      <td>72.0230</td>\n",
       "      <td>84.094</td>\n",
       "      <td>June</td>\n",
       "    </tr>\n",
       "    <tr>\n",
       "      <th>6</th>\n",
       "      <td>73.6890</td>\n",
       "      <td>90.440</td>\n",
       "      <td>July</td>\n",
       "    </tr>\n",
       "    <tr>\n",
       "      <th>7</th>\n",
       "      <td>76.2741</td>\n",
       "      <td>96.780</td>\n",
       "      <td>August</td>\n",
       "    </tr>\n",
       "    <tr>\n",
       "      <th>8</th>\n",
       "      <td>78.5792</td>\n",
       "      <td>103.209</td>\n",
       "      <td>September</td>\n",
       "    </tr>\n",
       "    <tr>\n",
       "      <th>9</th>\n",
       "      <td>83.5240</td>\n",
       "      <td>107.890</td>\n",
       "      <td>October</td>\n",
       "    </tr>\n",
       "    <tr>\n",
       "      <th>10</th>\n",
       "      <td>88.1230</td>\n",
       "      <td>111.640</td>\n",
       "      <td>November</td>\n",
       "    </tr>\n",
       "    <tr>\n",
       "      <th>11</th>\n",
       "      <td>89.5398</td>\n",
       "      <td>114.884</td>\n",
       "      <td>December</td>\n",
       "    </tr>\n",
       "  </tbody>\n",
       "</table>\n",
       "</div>"
      ],
      "text/plain": [
       "    Income_without_tax  Expenses      Month\n",
       "0              65.5340    76.020    January\n",
       "1              64.0780    76.750   February\n",
       "2              65.2750    77.662      March\n",
       "3              65.9148    79.250      April\n",
       "4              67.2840    82.560        May\n",
       "5              72.0230    84.094       June\n",
       "6              73.6890    90.440       July\n",
       "7              76.2741    96.780     August\n",
       "8              78.5792   103.209  September\n",
       "9              83.5240   107.890    October\n",
       "10             88.1230   111.640   November\n",
       "11             89.5398   114.884   December"
      ]
     },
     "execution_count": 41,
     "metadata": {},
     "output_type": "execute_result"
    }
   ],
   "source": [
    "fin_res"
   ]
  },
  {
   "cell_type": "code",
   "execution_count": 42,
   "id": "0fb147c7-1a12-490c-9fc8-ffcb60112557",
   "metadata": {
    "tags": []
   },
   "outputs": [],
   "source": [
    "# quarter 1 data\n",
    "q1 = fin_res[:3]"
   ]
  },
  {
   "cell_type": "code",
   "execution_count": 43,
   "id": "75aeed87-1359-4a3a-b84f-a90653edc8ff",
   "metadata": {
    "tags": []
   },
   "outputs": [],
   "source": [
    "# Another to put out quarter 1 data\n",
    "months = {\n",
    "    'January' : 1,\n",
    "    'February' : 1,\n",
    "    'March' : 1,\n",
    "    'April' : 2,\n",
    "    'May' : 2,\n",
    "    'June' : 2,\n",
    "    'July' : 3,\n",
    "    'August' : 3,\n",
    "    'September' : 3,\n",
    "    'October' : 4,\n",
    "    'November' : 4,\n",
    "    'December' : 4\n",
    "}\n",
    "fin_res['Quarter'] = fin_res['Month'].map(months)"
   ]
  },
  {
   "cell_type": "code",
   "execution_count": 44,
   "id": "ee6844aa-7413-49a3-adff-d3b40f586079",
   "metadata": {
    "tags": []
   },
   "outputs": [
    {
     "data": {
      "text/html": [
       "<div>\n",
       "<style scoped>\n",
       "    .dataframe tbody tr th:only-of-type {\n",
       "        vertical-align: middle;\n",
       "    }\n",
       "\n",
       "    .dataframe tbody tr th {\n",
       "        vertical-align: top;\n",
       "    }\n",
       "\n",
       "    .dataframe thead th {\n",
       "        text-align: right;\n",
       "    }\n",
       "</style>\n",
       "<table border=\"1\" class=\"dataframe\">\n",
       "  <thead>\n",
       "    <tr style=\"text-align: right;\">\n",
       "      <th></th>\n",
       "      <th>Income_without_tax</th>\n",
       "      <th>Expenses</th>\n",
       "      <th>Month</th>\n",
       "      <th>Quarter</th>\n",
       "    </tr>\n",
       "  </thead>\n",
       "  <tbody>\n",
       "    <tr>\n",
       "      <th>0</th>\n",
       "      <td>65.5340</td>\n",
       "      <td>76.020</td>\n",
       "      <td>January</td>\n",
       "      <td>1</td>\n",
       "    </tr>\n",
       "    <tr>\n",
       "      <th>1</th>\n",
       "      <td>64.0780</td>\n",
       "      <td>76.750</td>\n",
       "      <td>February</td>\n",
       "      <td>1</td>\n",
       "    </tr>\n",
       "    <tr>\n",
       "      <th>2</th>\n",
       "      <td>65.2750</td>\n",
       "      <td>77.662</td>\n",
       "      <td>March</td>\n",
       "      <td>1</td>\n",
       "    </tr>\n",
       "    <tr>\n",
       "      <th>3</th>\n",
       "      <td>65.9148</td>\n",
       "      <td>79.250</td>\n",
       "      <td>April</td>\n",
       "      <td>2</td>\n",
       "    </tr>\n",
       "    <tr>\n",
       "      <th>4</th>\n",
       "      <td>67.2840</td>\n",
       "      <td>82.560</td>\n",
       "      <td>May</td>\n",
       "      <td>2</td>\n",
       "    </tr>\n",
       "    <tr>\n",
       "      <th>5</th>\n",
       "      <td>72.0230</td>\n",
       "      <td>84.094</td>\n",
       "      <td>June</td>\n",
       "      <td>2</td>\n",
       "    </tr>\n",
       "    <tr>\n",
       "      <th>6</th>\n",
       "      <td>73.6890</td>\n",
       "      <td>90.440</td>\n",
       "      <td>July</td>\n",
       "      <td>3</td>\n",
       "    </tr>\n",
       "    <tr>\n",
       "      <th>7</th>\n",
       "      <td>76.2741</td>\n",
       "      <td>96.780</td>\n",
       "      <td>August</td>\n",
       "      <td>3</td>\n",
       "    </tr>\n",
       "    <tr>\n",
       "      <th>8</th>\n",
       "      <td>78.5792</td>\n",
       "      <td>103.209</td>\n",
       "      <td>September</td>\n",
       "      <td>3</td>\n",
       "    </tr>\n",
       "    <tr>\n",
       "      <th>9</th>\n",
       "      <td>83.5240</td>\n",
       "      <td>107.890</td>\n",
       "      <td>October</td>\n",
       "      <td>4</td>\n",
       "    </tr>\n",
       "    <tr>\n",
       "      <th>10</th>\n",
       "      <td>88.1230</td>\n",
       "      <td>111.640</td>\n",
       "      <td>November</td>\n",
       "      <td>4</td>\n",
       "    </tr>\n",
       "    <tr>\n",
       "      <th>11</th>\n",
       "      <td>89.5398</td>\n",
       "      <td>114.884</td>\n",
       "      <td>December</td>\n",
       "      <td>4</td>\n",
       "    </tr>\n",
       "  </tbody>\n",
       "</table>\n",
       "</div>"
      ],
      "text/plain": [
       "    Income_without_tax  Expenses      Month  Quarter\n",
       "0              65.5340    76.020    January        1\n",
       "1              64.0780    76.750   February        1\n",
       "2              65.2750    77.662      March        1\n",
       "3              65.9148    79.250      April        2\n",
       "4              67.2840    82.560        May        2\n",
       "5              72.0230    84.094       June        2\n",
       "6              73.6890    90.440       July        3\n",
       "7              76.2741    96.780     August        3\n",
       "8              78.5792   103.209  September        3\n",
       "9              83.5240   107.890    October        4\n",
       "10             88.1230   111.640   November        4\n",
       "11             89.5398   114.884   December        4"
      ]
     },
     "execution_count": 44,
     "metadata": {},
     "output_type": "execute_result"
    }
   ],
   "source": [
    "fin_res"
   ]
  },
  {
   "cell_type": "code",
   "execution_count": 139,
   "id": "e8fac9ea-6c59-45ea-9103-821e92a5e1fa",
   "metadata": {
    "tags": []
   },
   "outputs": [
    {
     "name": "stdout",
     "output_type": "stream",
     "text": [
      "   Income_without_tax  Expenses     Month  Quarter\n",
      "0              65.534    76.020   January        1\n",
      "1              64.078    76.750  February        1\n",
      "2              65.275    77.662     March        1\n"
     ]
    }
   ],
   "source": [
    "q1 = fin_res[fin_res['Quarter'] == 1]\n",
    "print(q1)"
   ]
  },
  {
   "cell_type": "code",
   "execution_count": 68,
   "id": "22f3ddab-39a5-407c-a36a-7afd9559285f",
   "metadata": {
    "tags": []
   },
   "outputs": [
    {
     "data": {
      "image/png": "[encoded data removed]",
      "text/plain": [
       "<Figure size 900x400 with 1 Axes>"
      ]
     },
     "metadata": {},
     "output_type": "display_data"
    }
   ],
   "source": [
    "plt.figure(figsize = (9,4))\n",
    "plt.bar(fin_res['Month'], fin_res['Expenses'], alpha = .4, color = 'maroon', width = .7, label = 'Expenses' )\n",
    "plt.plot(fin_res['Month'], fin_res['Income_without_tax'], color = 'red', label = 'Income without tax')\n",
    "plt.xticks(rotation = 45)\n",
    "plt.title('Income after tax and expenses')\n",
    "plt.legend(loc = 'best')\n",
    "plt.show()"
   ]
  },
  {
   "cell_type": "markdown",
   "id": "33b2239f-7e94-4dd6-b6d3-0710997f7837",
   "metadata": {},
   "source": [
    "***Task 3***"
   ]
  },
  {
   "cell_type": "code",
   "execution_count": 84,
   "id": "0088d32f-99cf-4d5e-bbf5-d8a943d6f144",
   "metadata": {
    "tags": []
   },
   "outputs": [],
   "source": [
    "import requests\n",
    "from bs4 import BeautifulSoup"
   ]
  },
  {
   "cell_type": "code",
   "execution_count": 89,
   "id": "028bdcf4-a119-42ec-8f3a-fb4e3e780ac7",
   "metadata": {
    "tags": []
   },
   "outputs": [],
   "source": [
    "resp = requests.get('https://gsom.spbu.ru/en/')"
   ]
  },
  {
   "cell_type": "code",
   "execution_count": 91,
   "id": "97718af2-7609-4c07-9bfb-905b47446cdd",
   "metadata": {
    "tags": []
   },
   "outputs": [],
   "source": [
    "soup = BeautifulSoup(resp.content, 'html.parser')"
   ]
  },
  {
   "cell_type": "code",
   "execution_count": 118,
   "id": "860a8e34-7fca-437e-af89-bb3106f3e307",
   "metadata": {
    "tags": []
   },
   "outputs": [],
   "source": [
    "images = soup.find_all('img')"
   ]
  },
  {
   "cell_type": "code",
   "execution_count": 137,
   "id": "91b3ea5d-44f2-4bc9-85a3-66e849311df0",
   "metadata": {
    "tags": []
   },
   "outputs": [],
   "source": [
    "pngs = [image for image in images if 'png' in str(image)]"
   ]
  },
  {
   "cell_type": "code",
   "execution_count": 135,
   "id": "4295b32c-2f2e-4dc1-8a10-b6bd653c894c",
   "metadata": {
    "tags": []
   },
   "outputs": [],
   "source": [
    "link = pngs[0].attrs['src']"
   ]
  },
  {
   "cell_type": "code",
   "execution_count": 134,
   "id": "1c6c85f3-5d6c-45b4-aae3-904b8c0a2e08",
   "metadata": {
    "tags": []
   },
   "outputs": [],
   "source": [
    "url = 'https://gsom.spbu.ru' + link\n",
    "response = requests.get(url)\n",
    "with open('template.png', 'wb') as file:\n",
    "    file.write(response.content)"
   ]
  }
 ],
 "metadata": {
  "kernelspec": {
   "display_name": "Python 3 (ipykernel)",
   "language": "python",
   "name": "python3"
  },
  "language_info": {
   "codemirror_mode": {
    "name": "ipython",
    "version": 3
   },
   "file_extension": ".py",
   "mimetype": "text/x-python",
   "name": "python",
   "nbconvert_exporter": "python",
   "pygments_lexer": "ipython3",
   "version": "3.10.8"
  }
 },
 "nbformat": 4,
 "nbformat_minor": 5
}
